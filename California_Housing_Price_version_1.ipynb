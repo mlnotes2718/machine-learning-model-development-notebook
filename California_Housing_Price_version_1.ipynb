{
 "cells": [
  {
   "cell_type": "markdown",
   "id": "f2dd6a35",
   "metadata": {},
   "source": [
    "# Scikit-Learn Dataset : California Housing Price"
   ]
  },
  {
   "cell_type": "markdown",
   "id": "245be9ba",
   "metadata": {},
   "source": [
    "1. Linear Regression Exercise:\n",
    "   Using the California Housing dataset from scikit-learn, create a linear regression model to predict house prices.\n",
    "   Evaluate the performance of Linear Regression on test set.\n",
    "\n",
    "   ```python\n",
    "   from sklearn.datasets import fetch_california_housing\n",
    "\n",
    "   # Load dataset\n",
    "   housing = fetch_california_housing()\n",
    "   ```"
   ]
  },
  {
   "cell_type": "code",
   "execution_count": 27,
   "id": "0739e638",
   "metadata": {},
   "outputs": [
    {
     "name": "stdout",
     "output_type": "stream",
     "text": [
      "Root Mean Squared Error: 0.7273129773603114\n",
      "R^2 Score: 0.5943232652466202\n"
     ]
    }
   ],
   "source": [
    "import pandas as pd\n",
    "from sklearn.linear_model import LinearRegression\n",
    "from sklearn.model_selection import train_test_split\n",
    "from sklearn.metrics import r2_score, root_mean_squared_error\n",
    "\n",
    "from sklearn.datasets import fetch_california_housing\n",
    "# Load dataset\n",
    "housing = fetch_california_housing()\n",
    "X = pd.DataFrame(housing['data'], columns=housing['feature_names'])\n",
    "y = housing['target']\n",
    "X_train, X_test, y_train, y_test = train_test_split(X, y, test_size=0.2, random_state=0)\n",
    "\n",
    "model = LinearRegression()\n",
    "model.fit(X_train, y_train)\n",
    "\n",
    "rmse = root_mean_squared_error(y_test, model.predict(X_test))\n",
    "r2 = r2_score(y_test, model.predict(X_test))\n",
    "\n",
    "print(\"Root Mean Squared Error:\", rmse)\n",
    "print(\"R^2 Score:\", r2)"
   ]
  },
  {
   "cell_type": "markdown",
   "id": "160575f0",
   "metadata": {},
   "source": [
    "## End"
   ]
  },
  {
   "cell_type": "markdown",
   "id": "6a0aebb2",
   "metadata": {},
   "source": []
  }
 ],
 "metadata": {
  "kernelspec": {
   "display_name": "ML311",
   "language": "python",
   "name": "python3"
  },
  "language_info": {
   "codemirror_mode": {
    "name": "ipython",
    "version": 3
   },
   "file_extension": ".py",
   "mimetype": "text/x-python",
   "name": "python",
   "nbconvert_exporter": "python",
   "pygments_lexer": "ipython3",
   "version": "3.11.11"
  }
 },
 "nbformat": 4,
 "nbformat_minor": 5
}
